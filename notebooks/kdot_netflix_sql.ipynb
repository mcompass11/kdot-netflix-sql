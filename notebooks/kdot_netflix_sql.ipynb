{
 "cells": [
  {
   "cell_type": "code",
   "id": "initial_id",
   "metadata": {
    "collapsed": true,
    "ExecuteTime": {
     "end_time": "2025-08-02T00:11:01.118131Z",
     "start_time": "2025-08-02T00:11:01.010037Z"
    }
   },
   "source": [
    "import pandas as pd\n",
    "import sqlite3\n",
    "\n",
    "#Loading csv\n",
    "df = pd.read_csv('../data/netflix.csv')\n",
    "\n",
    "#Creates connection to SQLite database\n",
    "conn = sqlite3.connect('kdot_netflix_data.db')\n",
    "\n",
    "#Exports Dataframe to the database\n",
    "df.to_sql('kdot_netflix_data', conn, if_exists='replace', index=False)\n",
    "\n",
    "#Closes connection\n",
    "# conn.close()\n"
   ],
   "outputs": [
    {
     "data": {
      "text/plain": [
       "8807"
      ]
     },
     "execution_count": 1,
     "metadata": {},
     "output_type": "execute_result"
    }
   ],
   "execution_count": 1
  },
  {
   "metadata": {
    "ExecuteTime": {
     "end_time": "2025-08-02T00:11:01.173758Z",
     "start_time": "2025-08-02T00:11:01.156406Z"
    }
   },
   "cell_type": "code",
   "source": [
    "#Preview the schema\n",
    "pd.read_sql_query(\"PRAGMA table_info(kdot_netflix_data);\", conn)"
   ],
   "id": "7ace850cccfb524f",
   "outputs": [
    {
     "data": {
      "text/plain": [
       "    cid          name     type  notnull dflt_value  pk\n",
       "0     0       show_id     TEXT        0       None   0\n",
       "1     1          type     TEXT        0       None   0\n",
       "2     2         title     TEXT        0       None   0\n",
       "3     3      director     TEXT        0       None   0\n",
       "4     4          cast     TEXT        0       None   0\n",
       "5     5       country     TEXT        0       None   0\n",
       "6     6    date_added     TEXT        0       None   0\n",
       "7     7  release_year  INTEGER        0       None   0\n",
       "8     8        rating     TEXT        0       None   0\n",
       "9     9      duration     TEXT        0       None   0\n",
       "10   10     listed_in     TEXT        0       None   0\n",
       "11   11   description     TEXT        0       None   0"
      ],
      "text/html": [
       "<div>\n",
       "<style scoped>\n",
       "    .dataframe tbody tr th:only-of-type {\n",
       "        vertical-align: middle;\n",
       "    }\n",
       "\n",
       "    .dataframe tbody tr th {\n",
       "        vertical-align: top;\n",
       "    }\n",
       "\n",
       "    .dataframe thead th {\n",
       "        text-align: right;\n",
       "    }\n",
       "</style>\n",
       "<table border=\"1\" class=\"dataframe\">\n",
       "  <thead>\n",
       "    <tr style=\"text-align: right;\">\n",
       "      <th></th>\n",
       "      <th>cid</th>\n",
       "      <th>name</th>\n",
       "      <th>type</th>\n",
       "      <th>notnull</th>\n",
       "      <th>dflt_value</th>\n",
       "      <th>pk</th>\n",
       "    </tr>\n",
       "  </thead>\n",
       "  <tbody>\n",
       "    <tr>\n",
       "      <th>0</th>\n",
       "      <td>0</td>\n",
       "      <td>show_id</td>\n",
       "      <td>TEXT</td>\n",
       "      <td>0</td>\n",
       "      <td>None</td>\n",
       "      <td>0</td>\n",
       "    </tr>\n",
       "    <tr>\n",
       "      <th>1</th>\n",
       "      <td>1</td>\n",
       "      <td>type</td>\n",
       "      <td>TEXT</td>\n",
       "      <td>0</td>\n",
       "      <td>None</td>\n",
       "      <td>0</td>\n",
       "    </tr>\n",
       "    <tr>\n",
       "      <th>2</th>\n",
       "      <td>2</td>\n",
       "      <td>title</td>\n",
       "      <td>TEXT</td>\n",
       "      <td>0</td>\n",
       "      <td>None</td>\n",
       "      <td>0</td>\n",
       "    </tr>\n",
       "    <tr>\n",
       "      <th>3</th>\n",
       "      <td>3</td>\n",
       "      <td>director</td>\n",
       "      <td>TEXT</td>\n",
       "      <td>0</td>\n",
       "      <td>None</td>\n",
       "      <td>0</td>\n",
       "    </tr>\n",
       "    <tr>\n",
       "      <th>4</th>\n",
       "      <td>4</td>\n",
       "      <td>cast</td>\n",
       "      <td>TEXT</td>\n",
       "      <td>0</td>\n",
       "      <td>None</td>\n",
       "      <td>0</td>\n",
       "    </tr>\n",
       "    <tr>\n",
       "      <th>5</th>\n",
       "      <td>5</td>\n",
       "      <td>country</td>\n",
       "      <td>TEXT</td>\n",
       "      <td>0</td>\n",
       "      <td>None</td>\n",
       "      <td>0</td>\n",
       "    </tr>\n",
       "    <tr>\n",
       "      <th>6</th>\n",
       "      <td>6</td>\n",
       "      <td>date_added</td>\n",
       "      <td>TEXT</td>\n",
       "      <td>0</td>\n",
       "      <td>None</td>\n",
       "      <td>0</td>\n",
       "    </tr>\n",
       "    <tr>\n",
       "      <th>7</th>\n",
       "      <td>7</td>\n",
       "      <td>release_year</td>\n",
       "      <td>INTEGER</td>\n",
       "      <td>0</td>\n",
       "      <td>None</td>\n",
       "      <td>0</td>\n",
       "    </tr>\n",
       "    <tr>\n",
       "      <th>8</th>\n",
       "      <td>8</td>\n",
       "      <td>rating</td>\n",
       "      <td>TEXT</td>\n",
       "      <td>0</td>\n",
       "      <td>None</td>\n",
       "      <td>0</td>\n",
       "    </tr>\n",
       "    <tr>\n",
       "      <th>9</th>\n",
       "      <td>9</td>\n",
       "      <td>duration</td>\n",
       "      <td>TEXT</td>\n",
       "      <td>0</td>\n",
       "      <td>None</td>\n",
       "      <td>0</td>\n",
       "    </tr>\n",
       "    <tr>\n",
       "      <th>10</th>\n",
       "      <td>10</td>\n",
       "      <td>listed_in</td>\n",
       "      <td>TEXT</td>\n",
       "      <td>0</td>\n",
       "      <td>None</td>\n",
       "      <td>0</td>\n",
       "    </tr>\n",
       "    <tr>\n",
       "      <th>11</th>\n",
       "      <td>11</td>\n",
       "      <td>description</td>\n",
       "      <td>TEXT</td>\n",
       "      <td>0</td>\n",
       "      <td>None</td>\n",
       "      <td>0</td>\n",
       "    </tr>\n",
       "  </tbody>\n",
       "</table>\n",
       "</div>"
      ]
     },
     "execution_count": 2,
     "metadata": {},
     "output_type": "execute_result"
    }
   ],
   "execution_count": 2
  },
  {
   "metadata": {
    "ExecuteTime": {
     "end_time": "2025-08-02T00:11:01.350871Z",
     "start_time": "2025-08-02T00:11:01.346961Z"
    }
   },
   "cell_type": "code",
   "source": [
    "#Counts the total records\n",
    "pd.read_sql_query(\"SELECT COUNT(*) AS total_records FROM kdot_netflix_data;\", conn)"
   ],
   "id": "8baa8e57d23fec9e",
   "outputs": [
    {
     "data": {
      "text/plain": [
       "   total_records\n",
       "0           8807"
      ],
      "text/html": [
       "<div>\n",
       "<style scoped>\n",
       "    .dataframe tbody tr th:only-of-type {\n",
       "        vertical-align: middle;\n",
       "    }\n",
       "\n",
       "    .dataframe tbody tr th {\n",
       "        vertical-align: top;\n",
       "    }\n",
       "\n",
       "    .dataframe thead th {\n",
       "        text-align: right;\n",
       "    }\n",
       "</style>\n",
       "<table border=\"1\" class=\"dataframe\">\n",
       "  <thead>\n",
       "    <tr style=\"text-align: right;\">\n",
       "      <th></th>\n",
       "      <th>total_records</th>\n",
       "    </tr>\n",
       "  </thead>\n",
       "  <tbody>\n",
       "    <tr>\n",
       "      <th>0</th>\n",
       "      <td>8807</td>\n",
       "    </tr>\n",
       "  </tbody>\n",
       "</table>\n",
       "</div>"
      ]
     },
     "execution_count": 3,
     "metadata": {},
     "output_type": "execute_result"
    }
   ],
   "execution_count": 3
  },
  {
   "metadata": {
    "ExecuteTime": {
     "end_time": "2025-08-02T00:11:01.409964Z",
     "start_time": "2025-08-02T00:11:01.405512Z"
    }
   },
   "cell_type": "code",
   "source": [
    "#A look at the first five titles\n",
    "pd.read_sql_query(\"\"\"\n",
    "                SELECT title, type, release_year\n",
    "                FROM kdot_netflix_data\n",
    "                LIMIT 5;\n",
    "\"\"\", conn)"
   ],
   "id": "f9c0a376904c2edd",
   "outputs": [
    {
     "data": {
      "text/plain": [
       "                   title     type  release_year\n",
       "0   Dick Johnson Is Dead    Movie          2020\n",
       "1          Blood & Water  TV Show          2021\n",
       "2              Ganglands  TV Show          2021\n",
       "3  Jailbirds New Orleans  TV Show          2021\n",
       "4           Kota Factory  TV Show          2021"
      ],
      "text/html": [
       "<div>\n",
       "<style scoped>\n",
       "    .dataframe tbody tr th:only-of-type {\n",
       "        vertical-align: middle;\n",
       "    }\n",
       "\n",
       "    .dataframe tbody tr th {\n",
       "        vertical-align: top;\n",
       "    }\n",
       "\n",
       "    .dataframe thead th {\n",
       "        text-align: right;\n",
       "    }\n",
       "</style>\n",
       "<table border=\"1\" class=\"dataframe\">\n",
       "  <thead>\n",
       "    <tr style=\"text-align: right;\">\n",
       "      <th></th>\n",
       "      <th>title</th>\n",
       "      <th>type</th>\n",
       "      <th>release_year</th>\n",
       "    </tr>\n",
       "  </thead>\n",
       "  <tbody>\n",
       "    <tr>\n",
       "      <th>0</th>\n",
       "      <td>Dick Johnson Is Dead</td>\n",
       "      <td>Movie</td>\n",
       "      <td>2020</td>\n",
       "    </tr>\n",
       "    <tr>\n",
       "      <th>1</th>\n",
       "      <td>Blood &amp; Water</td>\n",
       "      <td>TV Show</td>\n",
       "      <td>2021</td>\n",
       "    </tr>\n",
       "    <tr>\n",
       "      <th>2</th>\n",
       "      <td>Ganglands</td>\n",
       "      <td>TV Show</td>\n",
       "      <td>2021</td>\n",
       "    </tr>\n",
       "    <tr>\n",
       "      <th>3</th>\n",
       "      <td>Jailbirds New Orleans</td>\n",
       "      <td>TV Show</td>\n",
       "      <td>2021</td>\n",
       "    </tr>\n",
       "    <tr>\n",
       "      <th>4</th>\n",
       "      <td>Kota Factory</td>\n",
       "      <td>TV Show</td>\n",
       "      <td>2021</td>\n",
       "    </tr>\n",
       "  </tbody>\n",
       "</table>\n",
       "</div>"
      ]
     },
     "execution_count": 4,
     "metadata": {},
     "output_type": "execute_result"
    }
   ],
   "execution_count": 4
  },
  {
   "metadata": {
    "ExecuteTime": {
     "end_time": "2025-08-02T00:11:01.697563Z",
     "start_time": "2025-08-02T00:11:01.691543Z"
    }
   },
   "cell_type": "code",
   "source": [
    "#Count of movies bs tv shows\n",
    "pd.read_sql_query(\"\"\"\n",
    "    SELECT type, COUNT(*) AS total\n",
    "    FROM kdot_netflix_data\n",
    "    GROUP BY type;\n",
    "\"\"\", conn)"
   ],
   "id": "8f790eb2ef6034f5",
   "outputs": [
    {
     "data": {
      "text/plain": [
       "      type  total\n",
       "0    Movie   6131\n",
       "1  TV Show   2676"
      ],
      "text/html": [
       "<div>\n",
       "<style scoped>\n",
       "    .dataframe tbody tr th:only-of-type {\n",
       "        vertical-align: middle;\n",
       "    }\n",
       "\n",
       "    .dataframe tbody tr th {\n",
       "        vertical-align: top;\n",
       "    }\n",
       "\n",
       "    .dataframe thead th {\n",
       "        text-align: right;\n",
       "    }\n",
       "</style>\n",
       "<table border=\"1\" class=\"dataframe\">\n",
       "  <thead>\n",
       "    <tr style=\"text-align: right;\">\n",
       "      <th></th>\n",
       "      <th>type</th>\n",
       "      <th>total</th>\n",
       "    </tr>\n",
       "  </thead>\n",
       "  <tbody>\n",
       "    <tr>\n",
       "      <th>0</th>\n",
       "      <td>Movie</td>\n",
       "      <td>6131</td>\n",
       "    </tr>\n",
       "    <tr>\n",
       "      <th>1</th>\n",
       "      <td>TV Show</td>\n",
       "      <td>2676</td>\n",
       "    </tr>\n",
       "  </tbody>\n",
       "</table>\n",
       "</div>"
      ]
     },
     "execution_count": 5,
     "metadata": {},
     "output_type": "execute_result"
    }
   ],
   "execution_count": 5
  },
  {
   "metadata": {
    "ExecuteTime": {
     "end_time": "2025-08-02T00:11:01.857995Z",
     "start_time": "2025-08-02T00:11:01.851146Z"
    }
   },
   "cell_type": "code",
   "source": [
    "#Top 10 genres\n",
    "pd.read_sql_query(\"\"\"\n",
    "    SELECT listed_in, COUNT(*) AS genre_count\n",
    "    FROM kdot_netflix_data\n",
    "    GROUP BY listed_in\n",
    "    ORDER BY genre_count DESC\n",
    "    LIMIT 10;\n",
    "\"\"\", conn)"
   ],
   "id": "74cf6793f29477b1",
   "outputs": [
    {
     "data": {
      "text/plain": [
       "                                          listed_in  genre_count\n",
       "0                      Dramas, International Movies          362\n",
       "1                                     Documentaries          359\n",
       "2                                   Stand-Up Comedy          334\n",
       "3            Comedies, Dramas, International Movies          274\n",
       "4  Dramas, Independent Movies, International Movies          252\n",
       "5                                          Kids' TV          220\n",
       "6                          Children & Family Movies          215\n",
       "7                Children & Family Movies, Comedies          201\n",
       "8               Documentaries, International Movies          186\n",
       "9     Dramas, International Movies, Romantic Movies          180"
      ],
      "text/html": [
       "<div>\n",
       "<style scoped>\n",
       "    .dataframe tbody tr th:only-of-type {\n",
       "        vertical-align: middle;\n",
       "    }\n",
       "\n",
       "    .dataframe tbody tr th {\n",
       "        vertical-align: top;\n",
       "    }\n",
       "\n",
       "    .dataframe thead th {\n",
       "        text-align: right;\n",
       "    }\n",
       "</style>\n",
       "<table border=\"1\" class=\"dataframe\">\n",
       "  <thead>\n",
       "    <tr style=\"text-align: right;\">\n",
       "      <th></th>\n",
       "      <th>listed_in</th>\n",
       "      <th>genre_count</th>\n",
       "    </tr>\n",
       "  </thead>\n",
       "  <tbody>\n",
       "    <tr>\n",
       "      <th>0</th>\n",
       "      <td>Dramas, International Movies</td>\n",
       "      <td>362</td>\n",
       "    </tr>\n",
       "    <tr>\n",
       "      <th>1</th>\n",
       "      <td>Documentaries</td>\n",
       "      <td>359</td>\n",
       "    </tr>\n",
       "    <tr>\n",
       "      <th>2</th>\n",
       "      <td>Stand-Up Comedy</td>\n",
       "      <td>334</td>\n",
       "    </tr>\n",
       "    <tr>\n",
       "      <th>3</th>\n",
       "      <td>Comedies, Dramas, International Movies</td>\n",
       "      <td>274</td>\n",
       "    </tr>\n",
       "    <tr>\n",
       "      <th>4</th>\n",
       "      <td>Dramas, Independent Movies, International Movies</td>\n",
       "      <td>252</td>\n",
       "    </tr>\n",
       "    <tr>\n",
       "      <th>5</th>\n",
       "      <td>Kids' TV</td>\n",
       "      <td>220</td>\n",
       "    </tr>\n",
       "    <tr>\n",
       "      <th>6</th>\n",
       "      <td>Children &amp; Family Movies</td>\n",
       "      <td>215</td>\n",
       "    </tr>\n",
       "    <tr>\n",
       "      <th>7</th>\n",
       "      <td>Children &amp; Family Movies, Comedies</td>\n",
       "      <td>201</td>\n",
       "    </tr>\n",
       "    <tr>\n",
       "      <th>8</th>\n",
       "      <td>Documentaries, International Movies</td>\n",
       "      <td>186</td>\n",
       "    </tr>\n",
       "    <tr>\n",
       "      <th>9</th>\n",
       "      <td>Dramas, International Movies, Romantic Movies</td>\n",
       "      <td>180</td>\n",
       "    </tr>\n",
       "  </tbody>\n",
       "</table>\n",
       "</div>"
      ]
     },
     "execution_count": 6,
     "metadata": {},
     "output_type": "execute_result"
    }
   ],
   "execution_count": 6
  },
  {
   "metadata": {},
   "cell_type": "markdown",
   "source": "### The genres data is not flatten so need to split and flatten data for more accurte showing",
   "id": "bc5dc897b0ba728d"
  },
  {
   "metadata": {
    "ExecuteTime": {
     "end_time": "2025-08-02T00:11:01.988550Z",
     "start_time": "2025-08-02T00:11:01.971225Z"
    }
   },
   "cell_type": "code",
   "source": [
    "#Split and explode data\n",
    "df_genres = df[['listed_in']].dropna()\n",
    "df_genres['genre'] = df_genres['listed_in'].str.split(',')\n",
    "df_genres = df_genres.explode('genre')\n",
    "\n",
    "#Trimming the whitespace\n",
    "df_genres['genre'] = df_genres['genre'].str.strip()\n",
    "\n",
    "#Counting\n",
    "genre_counts = df_genres['genre'].value_counts().reset_index()\n",
    "genre_counts.columns = ['genre', 'count']\n",
    "\n",
    "#New counting of top 10\n",
    "genre_counts.head(10)"
   ],
   "id": "76b5e4ee40a19d35",
   "outputs": [
    {
     "data": {
      "text/plain": [
       "                      genre  count\n",
       "0      International Movies   2752\n",
       "1                    Dramas   2427\n",
       "2                  Comedies   1674\n",
       "3    International TV Shows   1351\n",
       "4             Documentaries    869\n",
       "5        Action & Adventure    859\n",
       "6                 TV Dramas    763\n",
       "7        Independent Movies    756\n",
       "8  Children & Family Movies    641\n",
       "9           Romantic Movies    616"
      ],
      "text/html": [
       "<div>\n",
       "<style scoped>\n",
       "    .dataframe tbody tr th:only-of-type {\n",
       "        vertical-align: middle;\n",
       "    }\n",
       "\n",
       "    .dataframe tbody tr th {\n",
       "        vertical-align: top;\n",
       "    }\n",
       "\n",
       "    .dataframe thead th {\n",
       "        text-align: right;\n",
       "    }\n",
       "</style>\n",
       "<table border=\"1\" class=\"dataframe\">\n",
       "  <thead>\n",
       "    <tr style=\"text-align: right;\">\n",
       "      <th></th>\n",
       "      <th>genre</th>\n",
       "      <th>count</th>\n",
       "    </tr>\n",
       "  </thead>\n",
       "  <tbody>\n",
       "    <tr>\n",
       "      <th>0</th>\n",
       "      <td>International Movies</td>\n",
       "      <td>2752</td>\n",
       "    </tr>\n",
       "    <tr>\n",
       "      <th>1</th>\n",
       "      <td>Dramas</td>\n",
       "      <td>2427</td>\n",
       "    </tr>\n",
       "    <tr>\n",
       "      <th>2</th>\n",
       "      <td>Comedies</td>\n",
       "      <td>1674</td>\n",
       "    </tr>\n",
       "    <tr>\n",
       "      <th>3</th>\n",
       "      <td>International TV Shows</td>\n",
       "      <td>1351</td>\n",
       "    </tr>\n",
       "    <tr>\n",
       "      <th>4</th>\n",
       "      <td>Documentaries</td>\n",
       "      <td>869</td>\n",
       "    </tr>\n",
       "    <tr>\n",
       "      <th>5</th>\n",
       "      <td>Action &amp; Adventure</td>\n",
       "      <td>859</td>\n",
       "    </tr>\n",
       "    <tr>\n",
       "      <th>6</th>\n",
       "      <td>TV Dramas</td>\n",
       "      <td>763</td>\n",
       "    </tr>\n",
       "    <tr>\n",
       "      <th>7</th>\n",
       "      <td>Independent Movies</td>\n",
       "      <td>756</td>\n",
       "    </tr>\n",
       "    <tr>\n",
       "      <th>8</th>\n",
       "      <td>Children &amp; Family Movies</td>\n",
       "      <td>641</td>\n",
       "    </tr>\n",
       "    <tr>\n",
       "      <th>9</th>\n",
       "      <td>Romantic Movies</td>\n",
       "      <td>616</td>\n",
       "    </tr>\n",
       "  </tbody>\n",
       "</table>\n",
       "</div>"
      ]
     },
     "execution_count": 7,
     "metadata": {},
     "output_type": "execute_result"
    }
   ],
   "execution_count": 7
  },
  {
   "metadata": {},
   "cell_type": "markdown",
   "source": [
    "### 🎬 Top Genres Breakdown (Normalized)\n",
    "\n",
    "Initially, the dataset stored all genres in a single string, separated by commas (e.g., `\"Dramas, International Movies\"`). Counting these strings resulted in inaccurate genre distributions since combined categories were treated as unique.\n",
    "\n",
    "To resolve this, I used `str.split()` and `explode()` to normalize the genres into individual rows. This allowed me to correctly calculate how often each distinct genre appears across the entire dataset.\n",
    "\n",
    "The bar chart below highlights the **Top 10 genres** after this transformation, providing a much clearer view into the types of content available on Netflix.\n"
   ],
   "id": "d761d7ec6f36d48f"
  },
  {
   "metadata": {
    "ExecuteTime": {
     "end_time": "2025-08-02T00:11:02.525435Z",
     "start_time": "2025-08-02T00:11:02.125253Z"
    }
   },
   "cell_type": "code",
   "source": [
    "#Importing tools for visuals\n",
    "import seaborn as sns\n",
    "import matplotlib.pyplot as plt\n",
    "\n",
    "#Setting plot style\n",
    "plt.figure(figsize=(10, 6))\n",
    "sns.barplot(data=genre_counts.head(10), y='genre', x='count',hue='genre', palette='viridis')\n",
    "\n",
    "#Adding labels and title\n",
    "plt.title('Top 10 Most Common Netflix Genres', fontsize=14)\n",
    "plt.xlabel('Count')\n",
    "plt.ylabel('Genre')\n",
    "plt.tight_layout()\n",
    "plt.savefig('../images/kdot_netflix_genres.png', bbox_inches='tight', dpi=300)\n",
    "plt.show()"
   ],
   "id": "a257fefc80954027",
   "outputs": [
    {
     "data": {
      "text/plain": [
       "<Figure size 1000x600 with 1 Axes>"
      ],
      "image/png": "[encoded data removed]"
     },
     "metadata": {},
     "output_type": "display_data"
    }
   ],
   "execution_count": 8
  },
  {
   "metadata": {
    "ExecuteTime": {
     "end_time": "2025-08-02T00:11:02.562339Z",
     "start_time": "2025-08-02T00:11:02.556272Z"
    }
   },
   "cell_type": "code",
   "source": [
    "#Saves Genre table to SQLite\n",
    "genre_counts.to_sql('normalized_genre_counts', conn, if_exists='replace', index=False)"
   ],
   "id": "fef5010daa2029c0",
   "outputs": [
    {
     "data": {
      "text/plain": [
       "42"
      ]
     },
     "execution_count": 9,
     "metadata": {},
     "output_type": "execute_result"
    }
   ],
   "execution_count": 9
  }
 ],
 "metadata": {
  "kernelspec": {
   "display_name": "Python 3",
   "language": "python",
   "name": "python3"
  },
  "language_info": {
   "codemirror_mode": {
    "name": "ipython",
    "version": 2
   },
   "file_extension": ".py",
   "mimetype": "text/x-python",
   "name": "python",
   "nbconvert_exporter": "python",
   "pygments_lexer": "ipython2",
   "version": "2.7.6"
  }
 },
 "nbformat": 4,
 "nbformat_minor": 5
}
